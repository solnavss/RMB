{
 "cells": [
  {
   "cell_type": "markdown",
   "metadata": {},
   "source": [
    "<img src=\"./imgs/banner.png\" align=\"center\"/>\n"
   ]
  },
  {
   "cell_type": "markdown",
   "metadata": {},
   "source": [
    "En Python, **todo es un objeto**. \n",
    "\n",
    "En Python, las **variables** hacen referencia a objetos y cualquier variable puede referenciar cualquier objeto."
   ]
  },
  {
   "cell_type": "markdown",
   "metadata": {},
   "source": [
    "<img src=\"./imgs/biopy.png\" align=\"left\"/>\n"
   ]
  },
  {
   "cell_type": "markdown",
   "metadata": {},
   "source": [
    "## Variables"
   ]
  },
  {
   "cell_type": "code",
   "execution_count": null,
   "metadata": {},
   "outputs": [],
   "source": [
    "print(\"Hello world!\")"
   ]
  },
  {
   "cell_type": "markdown",
   "metadata": {},
   "source": [
    "Cada variable, tiene un nombre y un valor."
   ]
  },
  {
   "cell_type": "raw",
   "metadata": {},
   "source": [
    "nombre_de_la_variable = valor_de_la_variable"
   ]
  },
  {
   "cell_type": "markdown",
   "metadata": {},
   "source": [
    "A ésto se le llama, **declar variables**.\n",
    "\n",
    "![SegmentLocal](./imgs/mind.gif \"segment\")"
   ]
  },
  {
   "cell_type": "markdown",
   "metadata": {},
   "source": [
    "Podemos utilizar varios estilos para nombrar una variable, lo importante es ser consistente"
   ]
  },
  {
   "cell_type": "code",
   "execution_count": null,
   "metadata": {},
   "outputs": [],
   "source": [
    "edad = 1\n",
    "Edad = 2\n",
    "eDad = 3\n",
    "EDAD = 4\n",
    "e_d_a_d = 5\n",
    "_edad = 6\n",
    "edad_ = 7\n",
    "_EDAD_ = 8\n",
    "__edad__ = 9\n",
    "MiEdad = 10\n",
    "MIEDAD = 11\n",
    "miEdad = 12\n",
    "mi_edad = 13\n",
    "Mi_Edad = 14"
   ]
  },
  {
   "cell_type": "code",
   "execution_count": null,
   "metadata": {},
   "outputs": [],
   "source": [
    "print(edad, Edad, eDad, EDAD, e_d_a_d, _edad, edad_)"
   ]
  },
  {
   "cell_type": "code",
   "execution_count": null,
   "metadata": {},
   "outputs": [],
   "source": [
    "print(_EDAD_, __edad__, MiEdad, MIEDAD, miEdad, mi_edad, Mi_Edad)"
   ]
  },
  {
   "cell_type": "code",
   "execution_count": null,
   "metadata": {},
   "outputs": [],
   "source": [
    "marisol = \"Marisol\"\n",
    "print(marisol)"
   ]
  },
  {
   "cell_type": "code",
   "execution_count": null,
   "metadata": {},
   "outputs": [],
   "source": [
    "nombre = marisol\n",
    "print(nombre)"
   ]
  },
  {
   "cell_type": "code",
   "execution_count": null,
   "metadata": {},
   "outputs": [],
   "source": [
    "marisol = \"Mario\"\n",
    "print(marisol)"
   ]
  },
  {
   "cell_type": "code",
   "execution_count": null,
   "metadata": {},
   "outputs": [],
   "source": [
    "print(nombre)"
   ]
  },
  {
   "cell_type": "markdown",
   "metadata": {},
   "source": [
    "Algunos formatos no están permitidos ¿puedes averiguar por qué es esto?"
   ]
  },
  {
   "cell_type": "code",
   "execution_count": null,
   "metadata": {},
   "outputs": [],
   "source": [
    "3edad = 12\n",
    "e-d-a-d = 13\n",
    "mi.edad = 14"
   ]
  },
  {
   "cell_type": "markdown",
   "metadata": {},
   "source": [
    "Algunas consideraciones que debes tener en mente para nombrar tus variables:\n",
    "\n",
    "* El nombre de la variable debe ser descriptivo y congruente con la información que contiene. \n",
    "* Define el nombre de las variables para ser leído. Una prioridad en la escritura de código es qué tan fácil se puede entender.\n",
    "* Adopta [convenciones estándar](https://www.python.org/dev/peps/pep-0008/#id42) para nombrar tus variables en lugar de usar diferentes estrategias para cada variable."
   ]
  },
  {
   "cell_type": "markdown",
   "metadata": {},
   "source": [
    "Hay algunas palabras que están reservadas para python y en consecuencia no se deben utilizar para nombrar variables\n",
    "<img src=\"./imgs/varnames.png\" align=\"center\"/>"
   ]
  },
  {
   "cell_type": "code",
   "execution_count": null,
   "metadata": {},
   "outputs": [],
   "source": [
    "# Para que nuestro código sea más legible, podemos agregar comentarios\n",
    "# Los comentarios inician con el símbolo #\n",
    "# Esta línea es un comentario, y no se ejecuta"
   ]
  },
  {
   "cell_type": "code",
   "execution_count": null,
   "metadata": {},
   "outputs": [],
   "source": [
    "\"\"\"\n",
    "O bien podemos agregar múltiples líneas, \n",
    "también llamadas docstring.\n",
    "\n",
    "Pues bien, yo necesito decirte que te quiero\n",
    "Decirte que te adoro con todo el corazón\n",
    "Que es mucho lo que sufro, que es mucho lo que lloro\n",
    "Que ya no puedo tanto y al grito en que te imploro\n",
    "Te imploro y te hablo en nombre de mi última ilusión\n",
    "\"\"\""
   ]
  },
  {
   "cell_type": "markdown",
   "metadata": {},
   "source": [
    "<img src=\"./imgs/biopy.png\" align=\"left\"/>\n"
   ]
  },
  {
   "cell_type": "markdown",
   "metadata": {},
   "source": [
    "## Tipos de datos"
   ]
  },
  {
   "cell_type": "markdown",
   "metadata": {},
   "source": [
    "### Números enteros (*integer*)"
   ]
  },
  {
   "cell_type": "code",
   "execution_count": null,
   "metadata": {},
   "outputs": [],
   "source": [
    "a = 24"
   ]
  },
  {
   "cell_type": "code",
   "execution_count": null,
   "metadata": {},
   "outputs": [],
   "source": [
    "type(a)"
   ]
  },
  {
   "cell_type": "code",
   "execution_count": null,
   "metadata": {},
   "outputs": [],
   "source": [
    "print(a)"
   ]
  },
  {
   "cell_type": "markdown",
   "metadata": {},
   "source": [
    "### Números decimales (*float*)"
   ]
  },
  {
   "cell_type": "code",
   "execution_count": null,
   "metadata": {},
   "outputs": [],
   "source": [
    "b = 3.14"
   ]
  },
  {
   "cell_type": "code",
   "execution_count": null,
   "metadata": {},
   "outputs": [],
   "source": [
    "type(b)"
   ]
  },
  {
   "cell_type": "markdown",
   "metadata": {},
   "source": [
    "### Operadores aritméticos"
   ]
  },
  {
   "cell_type": "markdown",
   "metadata": {},
   "source": [
    "#### Operador adición/suma algebráica"
   ]
  },
  {
   "cell_type": "code",
   "execution_count": null,
   "metadata": {},
   "outputs": [],
   "source": [
    "a = 3\n",
    "b = 2\n",
    "c = a + b"
   ]
  },
  {
   "cell_type": "code",
   "execution_count": null,
   "metadata": {},
   "outputs": [],
   "source": [
    "print(c)"
   ]
  },
  {
   "cell_type": "code",
   "execution_count": null,
   "metadata": {},
   "outputs": [],
   "source": [
    "print(5 + 6)"
   ]
  },
  {
   "cell_type": "markdown",
   "metadata": {},
   "source": [
    "#### Operador sustracción/resta"
   ]
  },
  {
   "cell_type": "code",
   "execution_count": null,
   "metadata": {},
   "outputs": [],
   "source": [
    "a = 4\n",
    "b = 7\n",
    "c = a - b"
   ]
  },
  {
   "cell_type": "code",
   "execution_count": null,
   "metadata": {},
   "outputs": [],
   "source": [
    "print(c)"
   ]
  },
  {
   "cell_type": "markdown",
   "metadata": {},
   "source": [
    "#### Operador negación"
   ]
  },
  {
   "cell_type": "code",
   "execution_count": null,
   "metadata": {},
   "outputs": [],
   "source": [
    "a = 5\n",
    "b = -a\n",
    "c = b - 4"
   ]
  },
  {
   "cell_type": "code",
   "execution_count": null,
   "metadata": {},
   "outputs": [],
   "source": [
    "print(b)\n",
    "print(c)"
   ]
  },
  {
   "cell_type": "markdown",
   "metadata": {},
   "source": [
    "#### Operador producto/multiplicación"
   ]
  },
  {
   "cell_type": "code",
   "execution_count": null,
   "metadata": {},
   "outputs": [],
   "source": [
    "a = 2\n",
    "b = 6\n",
    "c = a * b"
   ]
  },
  {
   "cell_type": "code",
   "execution_count": null,
   "metadata": {},
   "outputs": [],
   "source": [
    "print(c)"
   ]
  },
  {
   "cell_type": "markdown",
   "metadata": {},
   "source": [
    "#### Operador exponente/potencia"
   ]
  },
  {
   "cell_type": "code",
   "execution_count": null,
   "metadata": {},
   "outputs": [],
   "source": [
    "a = 2\n",
    "b = 4\n",
    "c = a ** b "
   ]
  },
  {
   "cell_type": "code",
   "execution_count": null,
   "metadata": {},
   "outputs": [],
   "source": [
    "print(c)"
   ]
  },
  {
   "cell_type": "markdown",
   "metadata": {},
   "source": [
    "#### Operador división"
   ]
  },
  {
   "cell_type": "code",
   "execution_count": null,
   "metadata": {},
   "outputs": [],
   "source": [
    "a = 3.5\n",
    "b = 4\n",
    "c = 2\n",
    "d = a / c\n",
    "e = b / c"
   ]
  },
  {
   "cell_type": "code",
   "execution_count": null,
   "metadata": {},
   "outputs": [],
   "source": [
    "print(d)"
   ]
  },
  {
   "cell_type": "code",
   "execution_count": null,
   "metadata": {},
   "outputs": [],
   "source": [
    "print(e)"
   ]
  },
  {
   "cell_type": "markdown",
   "metadata": {},
   "source": [
    "#### Operador división entera"
   ]
  },
  {
   "cell_type": "code",
   "execution_count": null,
   "metadata": {},
   "outputs": [],
   "source": [
    "f = a // c\n",
    "g = b // c"
   ]
  },
  {
   "cell_type": "code",
   "execution_count": null,
   "metadata": {},
   "outputs": [],
   "source": [
    "print(f)"
   ]
  },
  {
   "cell_type": "code",
   "execution_count": null,
   "metadata": {},
   "outputs": [],
   "source": [
    "print(g)"
   ]
  },
  {
   "cell_type": "markdown",
   "metadata": {},
   "source": [
    "<div class=\"alert alert-block alert-info\">\n",
    "    <b>Tip:</b>\n",
    "    Se puede convertir un float a int con la función <code>int()</code> y de int a float con <code>float()</code>. Cuando se mezclan tipos de números, Python convierte todos los operandos al tipo más complejo de entre los tipos de los operandos.\n",
    "</div>"
   ]
  },
  {
   "cell_type": "markdown",
   "metadata": {},
   "source": [
    "#### Operador módulo"
   ]
  },
  {
   "cell_type": "code",
   "execution_count": null,
   "metadata": {},
   "outputs": [],
   "source": [
    "a = 7 % 2\n",
    "b = 8 % 3"
   ]
  },
  {
   "cell_type": "code",
   "execution_count": null,
   "metadata": {},
   "outputs": [],
   "source": [
    "print(a)"
   ]
  },
  {
   "cell_type": "code",
   "execution_count": null,
   "metadata": {},
   "outputs": [],
   "source": [
    "print(b)"
   ]
  },
  {
   "cell_type": "markdown",
   "metadata": {},
   "source": [
    "#### Orden de precedencia\n",
    "\n",
    "El orden de precedencia de ejecución de los operadores aritméticos es:\n",
    "\n",
    "* Exponente: `**`\n",
    "* Negación: `-`\n",
    "* Multiplicación, División, División entera, Módulo: `*`, `/`, `//`, `%`\n",
    "* Suma, Resta: `+`, `-`"
   ]
  },
  {
   "cell_type": "markdown",
   "metadata": {},
   "source": [
    "### Cadena de texto (*strings*)"
   ]
  },
  {
   "cell_type": "markdown",
   "metadata": {},
   "source": [
    "Las cadenas constan de caracteres encerrados entre comillas simples (`‘cadena’`) o dobles (`“cadena”`)."
   ]
  },
  {
   "cell_type": "code",
   "execution_count": null,
   "metadata": {},
   "outputs": [],
   "source": [
    "a = \"uno\"\n",
    "b = \"dos\"\n",
    "c = \"tres\"\n",
    "d = a + b + c"
   ]
  },
  {
   "cell_type": "code",
   "execution_count": null,
   "metadata": {},
   "outputs": [],
   "source": [
    "print(a)\n",
    "print(b)\n",
    "print(c)"
   ]
  },
  {
   "cell_type": "code",
   "execution_count": null,
   "metadata": {},
   "outputs": [],
   "source": [
    "print(d)"
   ]
  },
  {
   "cell_type": "markdown",
   "metadata": {},
   "source": [
    "Podemos agregar formato especial con algunos caracteres especiales.\n",
    "El siguiente ejemplo usa un espacio blanco como separador:"
   ]
  },
  {
   "cell_type": "code",
   "execution_count": null,
   "metadata": {},
   "outputs": [],
   "source": [
    "print(a + \" \" + b + \" \" + c)"
   ]
  },
  {
   "cell_type": "markdown",
   "metadata": {},
   "source": [
    "Pero si queremos que nuestro texto tenga una estructura tabular adecuada, podemos usar el caracter especial \"\\t\""
   ]
  },
  {
   "cell_type": "code",
   "execution_count": null,
   "metadata": {},
   "outputs": [],
   "source": [
    "print(a + \"\\t\" + b + \"\\t\" + c)"
   ]
  },
  {
   "cell_type": "code",
   "execution_count": null,
   "metadata": {},
   "outputs": [],
   "source": [
    "number = \"3.14\""
   ]
  },
  {
   "cell_type": "code",
   "execution_count": null,
   "metadata": {},
   "outputs": [],
   "source": [
    "print(number)"
   ]
  },
  {
   "cell_type": "code",
   "execution_count": null,
   "metadata": {},
   "outputs": [],
   "source": [
    "float(number)"
   ]
  },
  {
   "cell_type": "markdown",
   "metadata": {},
   "source": [
    "#### Slicing (:)"
   ]
  },
  {
   "cell_type": "code",
   "execution_count": null,
   "metadata": {},
   "outputs": [],
   "source": [
    "texto = \"Tres tristes tigres tragaban trigo en un trigal\""
   ]
  },
  {
   "cell_type": "code",
   "execution_count": null,
   "metadata": {},
   "outputs": [],
   "source": [
    "print(texto)"
   ]
  },
  {
   "cell_type": "code",
   "execution_count": null,
   "metadata": {},
   "outputs": [],
   "source": [
    "texto[0:3]"
   ]
  },
  {
   "cell_type": "code",
   "execution_count": null,
   "metadata": {},
   "outputs": [],
   "source": [
    "texto[2:]"
   ]
  },
  {
   "cell_type": "markdown",
   "metadata": {},
   "source": [
    "#### Índices"
   ]
  },
  {
   "cell_type": "code",
   "execution_count": null,
   "metadata": {},
   "outputs": [],
   "source": [
    "texto[8]"
   ]
  },
  {
   "cell_type": "raw",
   "metadata": {},
   "source": [
    "texto[inicio:final]  # ítems desde el principio hasta el final-1\n",
    "texto[inicio:]      # ítems desde el inicio hasta el final\n",
    "texto[:final]       # ítems desde el inicio hasta el final-1\n",
    "texto[:]            # Una copia de todos los elementos de la cadena de texto\n",
    "\n",
    "texto[-1]           # último elemento de la cadena de textolast item in the array\n",
    "texto[-2:]          # Los últimos dos elementos de la cadena de texto\n",
    "texto[:-2]          # Tdo excepto los últimos dos elementos"
   ]
  },
  {
   "cell_type": "raw",
   "metadata": {},
   "source": [
    "                  +---+---+---+---+---+---+---+---+---+---+\n",
    "                  | A | T | G | e | n | o | m | i | c | s |  \n",
    "                  +---+---+---+---+---+---+---+---+---+---+\n",
    "Slice position    0   1   2   3   4   5   6   7   8   9   10\n",
    "Negative Slice  -10  -9  -8  -7  -6  -5  -4  -3  -2  -1\n",
    "Index position      0   1   2   3   4   5   6   7   8   9"
   ]
  },
  {
   "cell_type": "code",
   "execution_count": null,
   "metadata": {},
   "outputs": [],
   "source": [
    "palabra = \"atgenomics\""
   ]
  },
  {
   "cell_type": "code",
   "execution_count": null,
   "metadata": {},
   "outputs": [],
   "source": [
    "palabra[0:3]"
   ]
  },
  {
   "cell_type": "markdown",
   "metadata": {},
   "source": [
    "### Booleanos"
   ]
  },
  {
   "cell_type": "markdown",
   "metadata": {},
   "source": [
    "Una variable de tipo booleano sólo puede tener dos valores: `True` (cierto) y `False` (falso). Estos\n",
    "valores son especialmente importantes para las expresiones condicionales y los bucles, como veremos más adelante."
   ]
  },
  {
   "cell_type": "markdown",
   "metadata": {},
   "source": [
    "### Operadores lógicos"
   ]
  },
  {
   "cell_type": "markdown",
   "metadata": {},
   "source": [
    "<img src=\"./imgs/boolean.png\" align=\"center\"/>"
   ]
  },
  {
   "cell_type": "code",
   "execution_count": null,
   "metadata": {},
   "outputs": [],
   "source": [
    "r = True\n",
    "s = False\n",
    "\n",
    "test_and = r and s\n",
    "test_or = r or s\n",
    "test_not = not r"
   ]
  },
  {
   "cell_type": "code",
   "execution_count": null,
   "metadata": {},
   "outputs": [],
   "source": [
    "print(test_and)\n",
    "print(test_or)\n",
    "print(test_not)"
   ]
  },
  {
   "cell_type": "markdown",
   "metadata": {},
   "source": [
    "### Operadores relacionales"
   ]
  },
  {
   "cell_type": "markdown",
   "metadata": {},
   "source": [
    "#### Para comparar dos objetos podemos usar el operador \"igual a\" (`==`)"
   ]
  },
  {
   "cell_type": "code",
   "execution_count": null,
   "metadata": {},
   "outputs": [],
   "source": [
    "p = 4\n",
    "q = 5\n",
    "r = p == q\n",
    "print(r)"
   ]
  },
  {
   "cell_type": "code",
   "execution_count": null,
   "metadata": {},
   "outputs": [],
   "source": [
    "nombre = \"Marisol\" == \"marisol\""
   ]
  },
  {
   "cell_type": "code",
   "execution_count": null,
   "metadata": {},
   "outputs": [],
   "source": [
    "print(nombre)"
   ]
  },
  {
   "cell_type": "markdown",
   "metadata": {},
   "source": [
    "<div class=\"alert alert-block alert-info\">\n",
    "    <b>Tip:</b>\n",
    "    El operador \"<code>=</code>\" es distinto del operador \"<code>==</code>\"\n",
    "    <ul>\n",
    "        <li><code>=</code> Se emplea para asignar valores</li>\n",
    "        <li><code>==</code> Se emplea para comparar objetos</li>\n",
    "    </ul>\n",
    "</div>"
   ]
  },
  {
   "cell_type": "markdown",
   "metadata": {},
   "source": [
    "#### O el operador \"distinto que\" (`!=`)"
   ]
  },
  {
   "cell_type": "code",
   "execution_count": null,
   "metadata": {},
   "outputs": [],
   "source": [
    "r = 5 != 3\n",
    "print(r)"
   ]
  },
  {
   "cell_type": "markdown",
   "metadata": {},
   "source": [
    "#### O el operador \"menor que\" (`<`) ó \"menor o igual que\" (`<=`)"
   ]
  },
  {
   "cell_type": "code",
   "execution_count": null,
   "metadata": {},
   "outputs": [],
   "source": [
    "r = 3 < 6\n",
    "print(r)"
   ]
  },
  {
   "cell_type": "code",
   "execution_count": null,
   "metadata": {},
   "outputs": [],
   "source": [
    "r = 9 <= 2\n",
    "print(r)"
   ]
  },
  {
   "cell_type": "markdown",
   "metadata": {},
   "source": [
    "#### O el operador \"mayor que\" (`>`) ó \"mayor o igual que\" (`>=`)"
   ]
  },
  {
   "cell_type": "code",
   "execution_count": null,
   "metadata": {},
   "outputs": [],
   "source": [
    "r = 6 > 9\n",
    "print(r)"
   ]
  },
  {
   "cell_type": "code",
   "execution_count": null,
   "metadata": {},
   "outputs": [],
   "source": [
    "r = 5 >= 5\n",
    "print(r)"
   ]
  },
  {
   "cell_type": "markdown",
   "metadata": {},
   "source": [
    "<img src=\"./imgs/biopy.png\" align=\"left\"/>\n"
   ]
  },
  {
   "cell_type": "markdown",
   "metadata": {},
   "source": [
    "## Funciones"
   ]
  },
  {
   "cell_type": "markdown",
   "metadata": {},
   "source": [
    "<div class=\"alert alert-block alert-success\">\n",
    "    <b>Información:</b>\n",
    "    Funciones y métodos integradas <i>built-in</i> que utilizaremos\n",
    "</div>"
   ]
  },
  {
   "cell_type": "markdown",
   "metadata": {},
   "source": [
    "#### <code>type()</code>\n",
    "Nos indica el tipo de un objeto\n",
    "#### <code>len()</code>\n",
    "Obtiene el número de elementos de un objeto\n",
    "#### <code>help()</code>\n",
    "Método que nos muestra la ayuda de funciones, otros métodos, módulos, etc.\n",
    "#### <code>str()</code>\n",
    "Convierte un objeto a su forma de cadena (string), siempre y cuando se pueda\n",
    "#### <code>int()</code>\n",
    "Convierte un objeto a su forma de número entero (integer), siempre y cuando se pueda"
   ]
  },
  {
   "cell_type": "code",
   "execution_count": null,
   "metadata": {},
   "outputs": [],
   "source": [
    "number = 10\n",
    "type(number)"
   ]
  },
  {
   "cell_type": "code",
   "execution_count": null,
   "metadata": {},
   "outputs": [],
   "source": [
    "number = \"10\"\n",
    "type(number)"
   ]
  },
  {
   "cell_type": "code",
   "execution_count": null,
   "metadata": {},
   "outputs": [],
   "source": [
    "number = \"10\"\n",
    "len(number)"
   ]
  },
  {
   "cell_type": "code",
   "execution_count": null,
   "metadata": {},
   "outputs": [],
   "source": [
    "number = 10\n",
    "type(number)\n",
    "number = str(number)\n",
    "type(number)"
   ]
  },
  {
   "cell_type": "code",
   "execution_count": null,
   "metadata": {},
   "outputs": [],
   "source": [
    "number = \"diez\"\n",
    "number = int(number)"
   ]
  },
  {
   "cell_type": "markdown",
   "metadata": {},
   "source": [
    "<div class=\"alert alert-block alert-info\">\n",
    "    <b>Tip:</b>\n",
    "    Para diferenciar entre un método y una funcion, generalmente la mayoría sigue la siguiente sintaxis\n",
    "    <ul>\n",
    "        <li><code>function(object)</code></li>\n",
    "        <li><code>object.method()</code></li>\n",
    "    </ul>\n",
    "</div>"
   ]
  },
  {
   "cell_type": "markdown",
   "metadata": {},
   "source": [
    "Los métodos son mejores cuando se aplican a ciertor objetos. Las funciones son mejores cuando se aplican a múltiples objetos.\n",
    "Existen más funciones <i>built-in</i> disponibles en: https://docs.python.org/3/library/functions.html\n",
    "<img src=\"./imgs/functions.png\" align=\"center\"/>"
   ]
  },
  {
   "cell_type": "markdown",
   "metadata": {},
   "source": [
    "<img src=\"./imgs/biopy.png\" align=\"left\"/>"
   ]
  },
  {
   "cell_type": "markdown",
   "metadata": {},
   "source": [
    "# Estructuras de Control de Flujo"
   ]
  },
  {
   "cell_type": "markdown",
   "metadata": {},
   "source": [
    "En varios lenguajes de programación, las estructuras de control permiten modificar el flujo de ejecución de las instrucciones de un programa.\n",
    "\n",
    "Es decir, podemos determinar que instrucciones se ejecutan sin que tengamos que revisar manualmente todos los casos."
   ]
  },
  {
   "cell_type": "markdown",
   "metadata": {},
   "source": [
    "<img src=\"./imgs/biopy.png\" align=\"left\"/>"
   ]
  },
  {
   "cell_type": "markdown",
   "metadata": {},
   "source": [
    "# Condicionales (if, if else, if elif else)"
   ]
  },
  {
   "cell_type": "markdown",
   "metadata": {},
   "source": [
    "Las estructuras que se ejecutan de acuerdo a condiciones se les denomina **condicionales**.\n",
    "\n",
    "En Python las condicionales se definen mediante el uso de tres palabras reservadas: `if` (si), `elif` (si no, entonces) y `else` (si no)."
   ]
  },
  {
   "cell_type": "markdown",
   "metadata": {},
   "source": [
    "<div class=\"alert alert-block alert-warning\">\n",
    "    <b>Advertencia:</b>En Python no existen inicios o finales explícitos para sus comandos u ordenes. En otros lenguajes se utilizan parentesis curvados para delimitar las condicionales <code>{ }</code>. En python no se utilizan dichos paréntesis, en vez, se pueden emplear los dos puntos <code>:</code> y la <b>indentación</b> o <b>sangría</b> del código. Se recomienda usar un sólo formato, ya sea tabuladores o espacios, siempre en la misma proporcion en todo el documentos.\n",
    "</div>"
   ]
  },
  {
   "cell_type": "markdown",
   "metadata": {},
   "source": [
    "### if\n",
    "Si la condición se cumple (`TRUE`), entonces ejecuta el bloque de código, si no, no hagas nada"
   ]
  },
  {
   "cell_type": "code",
   "execution_count": null,
   "metadata": {},
   "outputs": [],
   "source": [
    "a = 12\n",
    "if (a < 20) == True:\n",
    "    print('a es menor que 20')"
   ]
  },
  {
   "cell_type": "code",
   "execution_count": null,
   "metadata": {},
   "outputs": [],
   "source": [
    "a = 12\n",
    "if a < 20:\n",
    "    print('a es menor que 20')"
   ]
  },
  {
   "cell_type": "code",
   "execution_count": null,
   "metadata": {},
   "outputs": [],
   "source": [
    "a = 12\n",
    "if (a > 20) == True:\n",
    "    print('a es menor que 20')"
   ]
  },
  {
   "cell_type": "markdown",
   "metadata": {},
   "source": [
    "### if/else\n",
    "Si la condición se cumple, entonces ejecuta el primer bloque de código, si no se cumple ejecuta el segundo bloque de código\n",
    "\n",
    "Ejemplo:\n",
    "##### Si el semáforo esta en verde, cruza la calle. Si no, esperate."
   ]
  },
  {
   "cell_type": "code",
   "execution_count": null,
   "metadata": {},
   "outputs": [],
   "source": [
    "semaforo = True\n",
    "verde = True\n",
    "\n",
    "if semaforo == verde: \n",
    "    print(\"Cruzar la calle\")\n",
    "else: \n",
    "    print(\"Espera\")"
   ]
  },
  {
   "cell_type": "code",
   "execution_count": null,
   "metadata": {},
   "outputs": [],
   "source": [
    "semaforo = True\n",
    "verde = False\n",
    "\n",
    "if semaforo == verde: \n",
    "    print(\"Cruzar la calle\")\n",
    "else: \n",
    "    print(\"Espera\")"
   ]
  },
  {
   "cell_type": "markdown",
   "metadata": {},
   "source": [
    "### if/elif/else\n",
    "Si la primera condición se cumple (`TRUE`), entonces ejecuta el primer bloque de código, si no se cumple, pero si se cumple la segunda condición (`elif`) entonces ejecuta el segundo bloque de código, si no, entonces ejecuta el resto del código\n",
    "\n",
    "Ejemplo:\n",
    "##### Si gasto hasta 100 pesos, pago con dinero en efectivo\n",
    "##### Si gasto más de 100 pesos, pero menos de 300, entonces pago con tarjeta de débito\n",
    "##### Si no, pago con tarjeta de crédito.\n"
   ]
  },
  {
   "cell_type": "code",
   "execution_count": null,
   "metadata": {},
   "outputs": [],
   "source": [
    "compra = 325\n",
    "\n",
    "if compra <= 100: \n",
    "    print(\"Pago en efectivo\")\n",
    "elif compra > 100 and compra < 300: \n",
    "    print(\"Pago con tarjeta de débito\")\n",
    "else: \n",
    "    print(\"Pago con tarjeta de crédito\")"
   ]
  },
  {
   "cell_type": "markdown",
   "metadata": {},
   "source": [
    "<div class=\"alert alert-block alert-info\">\n",
    "    Python permite dos operadores relacionales directos sin utilizar un operador lógico\n",
    "</div>"
   ]
  },
  {
   "cell_type": "code",
   "execution_count": null,
   "metadata": {},
   "outputs": [],
   "source": [
    "\"\"\"\n",
    "En el -elif- se tienen que cumplir las dos condiciones al mismo tiempo:\n",
    "300 es mayor que compra (TRUE)\n",
    "compra es mayor que 100\n",
    ":. si TRUE y TRUE entonces ELIF\n",
    "\"\"\"\n",
    "print(300>compra)"
   ]
  },
  {
   "cell_type": "code",
   "execution_count": null,
   "metadata": {},
   "outputs": [],
   "source": [
    "compra = 299.99\n",
    "if compra <= 100: \n",
    "    print(\"Pago en efectivo\")\n",
    "elif  300 > compra > 100:\n",
    "    print(\"Pago con tarjeta de débito\")\n",
    "else: \n",
    "    print(\"Pago con tarjeta de crédito\")"
   ]
  },
  {
   "cell_type": "markdown",
   "metadata": {},
   "source": [
    "## Ejercicio 1: Condicionales (vida cotidiana)"
   ]
  },
  {
   "cell_type": "markdown",
   "metadata": {},
   "source": [
    "1.1 Escribir un programa que me permita aplicar el 10% de descuento si la compra total es mayor a $100."
   ]
  },
  {
   "cell_type": "markdown",
   "metadata": {},
   "source": [
    "1.2 Sabiendo que la fórmula para obtener el área de un triángulo es a = (b x h) / 2, donde b es la longitud de la base del triángulo, y h es su altura. Escribir un programa que permita realizar el cálculo del área de un triángulo. Si el área contiene valores decimales, imprimir el resultado con dos dígitos en los decimales. "
   ]
  },
  {
   "cell_type": "markdown",
   "metadata": {},
   "source": [
    "1.3 La fórmula para el Índice de Masa Corportal es *IMC = kg/m2* donde kg es el peso de la persona en kilogramos y m2 es la altura en metros al cuadrado. Realizar un programa que calcula el IMC cuando se le provee el peso y la altura. Y si el imc contiene valorer decimales, imprimir el resultado en enteros. "
   ]
  },
  {
   "cell_type": "markdown",
   "metadata": {},
   "source": [
    "<img src=\"./imgs/biopy.png\" align=\"left\"/>"
   ]
  },
  {
   "cell_type": "markdown",
   "metadata": {},
   "source": [
    "## Iterativas"
   ]
  },
  {
   "cell_type": "markdown",
   "metadata": {},
   "source": [
    "A diferencia de las estructuras de control condicionales, las estructuras de control iterativas (cíclicas, bucles o *loops*), nos permiten ejecutar código de manera repetitiva siempre y cuando se cumpla una condición. Las dos que existen en Python son `while`y `for`."
   ]
  },
  {
   "cell_type": "markdown",
   "metadata": {},
   "source": [
    "### while"
   ]
  },
  {
   "cell_type": "code",
   "execution_count": null,
   "metadata": {},
   "outputs": [],
   "source": [
    "edad = 24\n",
    "\n",
    "while edad <= 34:\n",
    "    print(\"Tengo %i años\" % edad)\n",
    "    edad = edad + 1"
   ]
  },
  {
   "cell_type": "code",
   "execution_count": null,
   "metadata": {},
   "outputs": [],
   "source": [
    "edad = 24\n",
    "while edad <= 34:\n",
    "    print(\"Tengo %i años\" % edad)\n",
    "    edad += 1"
   ]
  },
  {
   "cell_type": "markdown",
   "metadata": {},
   "source": [
    "Cada iteración, cada vuelta, se incrementa el valor de la variable edad que condiciona el bucle. Si la condición fuera `True`todo el tiempo el bucle estaría ejecutándose indefinidamente pero puedo usar una condición y `break` para romper el bucle de `while`"
   ]
  },
  {
   "cell_type": "code",
   "execution_count": null,
   "metadata": {},
   "outputs": [],
   "source": [
    "edad = 24\n",
    "while edad > 20:\n",
    "    print(\"Tengo %i años\" % edad)\n",
    "    edad += 1\n",
    "    if edad > 34:\n",
    "        break"
   ]
  },
  {
   "cell_type": "markdown",
   "metadata": {},
   "source": [
    "### for"
   ]
  },
  {
   "cell_type": "markdown",
   "metadata": {},
   "source": [
    "El blucle `for` nos permite iterar sobre variables que contengan objetos más complejos, como **listas** o **tuplas**. En el siguiente ejemplo utilizaremos la función `range()` para crear un rango entre dos números."
   ]
  },
  {
   "cell_type": "markdown",
   "metadata": {},
   "source": [
    "<div class=\"alert alert-block alert-success\">\n",
    "\n",
    "Hasta ahora hemos usado las siguientes funciones y métodos *built-in*:\n",
    "    \n",
    "* `print()`\n",
    "* `type()`\n",
    "* `int()`\n",
    "* `float()`\n",
    "* `round()`\n",
    "* `is_integer()`\n",
    "\n",
    "</div>"
   ]
  },
  {
   "cell_type": "code",
   "execution_count": null,
   "metadata": {},
   "outputs": [],
   "source": [
    "for edad in range(24, 34):\n",
    "    print(\"Tengo %i años\" % edad)"
   ]
  },
  {
   "cell_type": "code",
   "execution_count": null,
   "metadata": {
    "scrolled": true
   },
   "outputs": [],
   "source": [
    "seq_1 = \"ATGGTCGTTAGTTGCTGATG\"\n",
    "\n",
    "for nucleotide in seq_1:\n",
    "    print(nucleotide)"
   ]
  },
  {
   "cell_type": "markdown",
   "metadata": {},
   "source": [
    "<img src=\"./imgs/biopy.png\" align=\"left\"/>"
   ]
  },
  {
   "cell_type": "markdown",
   "metadata": {},
   "source": [
    "\n",
    "## Ejercicio 2: Estructuras de Control de Flujo (Contenido GC)"
   ]
  },
  {
   "cell_type": "markdown",
   "metadata": {},
   "source": [
    "**2. Realiza un programa que calcule el contenido GC de la siguiente secuencia: ATGCGTGATGCGCTGAGCGCTAGCGCGATAGCGATAGCGATCAAAGGCGCGCGCGTCGCTGCTGCTATGA.**"
   ]
  },
  {
   "cell_type": "markdown",
   "metadata": {},
   "source": [
    "\n",
    "## Ejercicio 3: Estructuras de Control de Flujo (DNA a RNA)"
   ]
  },
  {
   "cell_type": "markdown",
   "metadata": {},
   "source": [
    "**3.1 Realiza un programa que convierta las secuencias de DNA a RNA.**"
   ]
  },
  {
   "cell_type": "markdown",
   "metadata": {},
   "source": [
    "**3.2 Crear lista de codones a partir de la secuencia de RNA**"
   ]
  },
  {
   "cell_type": "code",
   "execution_count": null,
   "metadata": {},
   "outputs": [],
   "source": []
  }
 ],
 "metadata": {
  "kernelspec": {
   "display_name": "Python 3",
   "language": "python",
   "name": "python3"
  },
  "language_info": {
   "codemirror_mode": {
    "name": "ipython",
    "version": 3
   },
   "file_extension": ".py",
   "mimetype": "text/x-python",
   "name": "python",
   "nbconvert_exporter": "python",
   "pygments_lexer": "ipython3",
   "version": "3.7.4"
  }
 },
 "nbformat": 4,
 "nbformat_minor": 2
}
